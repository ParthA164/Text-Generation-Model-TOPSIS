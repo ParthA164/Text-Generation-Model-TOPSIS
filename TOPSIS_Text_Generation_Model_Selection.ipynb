{
 "cells": [
  {
   "cell_type": "code",
   "execution_count": 1,
   "id": "7eb00151",
   "metadata": {},
   "outputs": [],
   "source": [
    "\n",
    "import numpy as np\n",
    "import pandas as pd\n",
    "import matplotlib.pyplot as plt\n",
    "from sklearn.preprocessing import MinMaxScaler"
   ]
  },
  {
   "cell_type": "code",
   "execution_count": 2,
   "id": "52238eb4",
   "metadata": {},
   "outputs": [],
   "source": [
    "\n",
    "data = {\n",
    "    'Model': ['GPT-3', 'GPT-2', 'BERT', 'T5', 'BART'],\n",
    "    'Perplexity': [20, 30, 25, 22, 28],\n",
    "    'BLEU Score': [40, 35, 30, 33, 37],\n",
    "    'Inference Time (s)': [2, 1.5, 0.8, 1.2, 1],\n",
    "    'Model Size (MB)': [3500, 1500, 1200, 1100, 1600]\n",
    "}\n",
    "\n",
    "df = pd.DataFrame(data)"
   ]
  },
  {
   "cell_type": "code",
   "execution_count": 3,
   "id": "eaae0803",
   "metadata": {},
   "outputs": [],
   "source": [
    "# Define the weights for each criterion (assuming equal importance for simplicity)\n",
    "weights = np.array([1, 1, 1, 1])\n",
    "\n",
    "# Normalize the data using MinMaxScaler\n",
    "scaler = MinMaxScaler()\n",
    "normalized_data = scaler.fit_transform(df.iloc[:, 1:])\n",
    "\n",
    "# Create the normalized decision matrix\n",
    "df_normalized = pd.DataFrame(normalized_data, columns=df.columns[1:], index=df['Model'])\n",
    "\n",
    "# Calculate the weighted normalized decision matrix\n",
    "weighted_normalized_data = normalized_data * weights\n",
    "\n",
    "# Create the weighted normalized decision matrix\n",
    "df_weighted_normalized = pd.DataFrame(weighted_normalized_data, columns=df.columns[1:], index=df['Model'])"
   ]
  },
  {
   "cell_type": "code",
   "execution_count": 4,
   "id": "71166277",
   "metadata": {},
   "outputs": [],
   "source": [
    " #Define the ideal and negative ideal solutions\n",
    "ideal_solution = np.max(weighted_normalized_data, axis=0)\n",
    "negative_ideal_solution = np.min(weighted_normalized_data, axis=0)\n",
    "\n",
    "# Calculate the Euclidean distance from the ideal and negative ideal solutions\n",
    "distance_to_ideal = np.linalg.norm(weighted_normalized_data - ideal_solution, axis=1)\n",
    "distance_to_negative_ideal = np.linalg.norm(weighted_normalized_data - negative_ideal_solution, axis=1)"
   ]
  },
  {
   "cell_type": "code",
   "execution_count": 5,
   "id": "3f79f411",
   "metadata": {},
   "outputs": [],
   "source": [
    "# Calculate the performance score\n",
    "performance_score = distance_to_negative_ideal / (distance_to_ideal + distance_to_negative_ideal)\n",
    "\n",
    "# Add performance score to the dataframe\n",
    "df['Performance Score'] = performance_score\n",
    "\n",
    "# Rank models based on performance score\n",
    "df['Rank'] = df['Performance Score'].rank(ascending=False)\n",
    "\n",
    "# Display the results\n",
    "df = df.sort_values(by='Rank')"
   ]
  },
  {
   "cell_type": "code",
   "execution_count": 6,
   "id": "89a38c55",
   "metadata": {},
   "outputs": [
    {
     "data": {
      "image/png": "[encoded data removed]",
      "text/plain": [
       "<Figure size 1000x600 with 1 Axes>"
      ]
     },
     "metadata": {},
     "output_type": "display_data"
    },
    {
     "data": {
      "text/html": [
       "<div>\n",
       "<style scoped>\n",
       "    .dataframe tbody tr th:only-of-type {\n",
       "        vertical-align: middle;\n",
       "    }\n",
       "\n",
       "    .dataframe tbody tr th {\n",
       "        vertical-align: top;\n",
       "    }\n",
       "\n",
       "    .dataframe thead th {\n",
       "        text-align: right;\n",
       "    }\n",
       "</style>\n",
       "<table border=\"1\" class=\"dataframe\">\n",
       "  <thead>\n",
       "    <tr style=\"text-align: right;\">\n",
       "      <th></th>\n",
       "      <th>Model</th>\n",
       "      <th>Perplexity</th>\n",
       "      <th>BLEU Score</th>\n",
       "      <th>Inference Time (s)</th>\n",
       "      <th>Model Size (MB)</th>\n",
       "      <th>Performance Score</th>\n",
       "      <th>Rank</th>\n",
       "    </tr>\n",
       "  </thead>\n",
       "  <tbody>\n",
       "    <tr>\n",
       "      <th>0</th>\n",
       "      <td>GPT-3</td>\n",
       "      <td>20</td>\n",
       "      <td>40</td>\n",
       "      <td>2.0</td>\n",
       "      <td>3500</td>\n",
       "      <td>0.633975</td>\n",
       "      <td>1.0</td>\n",
       "    </tr>\n",
       "    <tr>\n",
       "      <th>1</th>\n",
       "      <td>GPT-2</td>\n",
       "      <td>30</td>\n",
       "      <td>35</td>\n",
       "      <td>1.5</td>\n",
       "      <td>1500</td>\n",
       "      <td>0.546073</td>\n",
       "      <td>2.0</td>\n",
       "    </tr>\n",
       "    <tr>\n",
       "      <th>4</th>\n",
       "      <td>BART</td>\n",
       "      <td>28</td>\n",
       "      <td>37</td>\n",
       "      <td>1.0</td>\n",
       "      <td>1600</td>\n",
       "      <td>0.476384</td>\n",
       "      <td>3.0</td>\n",
       "    </tr>\n",
       "    <tr>\n",
       "      <th>3</th>\n",
       "      <td>T5</td>\n",
       "      <td>22</td>\n",
       "      <td>33</td>\n",
       "      <td>1.2</td>\n",
       "      <td>1100</td>\n",
       "      <td>0.234322</td>\n",
       "      <td>4.0</td>\n",
       "    </tr>\n",
       "    <tr>\n",
       "      <th>2</th>\n",
       "      <td>BERT</td>\n",
       "      <td>25</td>\n",
       "      <td>30</td>\n",
       "      <td>0.8</td>\n",
       "      <td>1200</td>\n",
       "      <td>0.219891</td>\n",
       "      <td>5.0</td>\n",
       "    </tr>\n",
       "  </tbody>\n",
       "</table>\n",
       "</div>"
      ],
      "text/plain": [
       "   Model  Perplexity  BLEU Score  Inference Time (s)  Model Size (MB)  \\\n",
       "0  GPT-3          20          40                 2.0             3500   \n",
       "1  GPT-2          30          35                 1.5             1500   \n",
       "4   BART          28          37                 1.0             1600   \n",
       "3     T5          22          33                 1.2             1100   \n",
       "2   BERT          25          30                 0.8             1200   \n",
       "\n",
       "   Performance Score  Rank  \n",
       "0           0.633975   1.0  \n",
       "1           0.546073   2.0  \n",
       "4           0.476384   3.0  \n",
       "3           0.234322   4.0  \n",
       "2           0.219891   5.0  "
      ]
     },
     "execution_count": 6,
     "metadata": {},
     "output_type": "execute_result"
    }
   ],
   "source": [
    "\n",
    "plt.figure(figsize=(10,6))\n",
    "plt.barh(df['Model'], df['Performance Score'], color='skyblue')\n",
    "plt.xlabel('Performance Score')\n",
    "plt.title('TOPSIS Ranking of Pretrained Text Generation Models')\n",
    "plt.gca().invert_yaxis()  \n",
    "plt.show()\n",
    "\n",
    "# Display the final table with rankings\n",
    "df"
   ]
  }
 ],
 "metadata": {
  "kernelspec": {
   "display_name": "Python 3",
   "language": "python",
   "name": "python3"
  },
  "language_info": {
   "codemirror_mode": {
    "name": "ipython",
    "version": 3
   },
   "file_extension": ".py",
   "mimetype": "text/x-python",
   "name": "python",
   "nbconvert_exporter": "python",
   "pygments_lexer": "ipython3",
   "version": "3.12.1"
  }
 },
 "nbformat": 4,
 "nbformat_minor": 5
}
